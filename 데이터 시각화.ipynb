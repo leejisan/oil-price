{
 "cells": [
  {
   "cell_type": "code",
   "execution_count": 18,
   "metadata": {},
   "outputs": [],
   "source": [
    "import pandas as pd\n",
    "import matplotlib.pyplot as plt\n",
    "import matplotlib as mpl\n",
    "import numpy as np\n",
    "import seaborn as sns"
   ]
  },
  {
   "cell_type": "code",
   "execution_count": 62,
   "metadata": {},
   "outputs": [],
   "source": [
    "class Oil:\n",
    "    def __init__(self):\n",
    "        self.data = pd.read_csv('refined_data/data.csv', encoding='ansi')\n",
    "        self.standard = ''\n",
    "        self.do = ''\n",
    "        self.sigungu = ''\n",
    "        sns.set(font='Gulim', font_scale=1)\n",
    "        \n",
    "    def set_standard(self,string):\n",
    "        self.standard = string\n",
    "        \n",
    "    def get_standard(self):\n",
    "        return self.standard     \n",
    "    \n",
    "    def set_do(self,string):\n",
    "        self.do = string\n",
    "        \n",
    "    def get_do(self,string):\n",
    "        return self.do\n",
    "        \n",
    "    def set_sigungu(self,string):\n",
    "        self.sigungu = string\n",
    "        \n",
    "    def get_sigungu(self,string):\n",
    "        return self.sigungu\n",
    "    \n",
    "    def draw_plot(self):\n",
    "        loc_array = list(self.data.groupby([self.standard]).groups.keys())\n",
    "        X = self.data.loc[self.data.groupby([self.standard]).groups[loc_array[0]]]\n",
    "        X.reset_index(drop=True,inplace=True)\n",
    "        plt.scatter(X[:]['경유'],X[:]['휘발유'],c='black',label='충북', s=10)\n",
    "        plt.xlabel('경유 가격(원)')\n",
    "        plt.ylabel('휘발유 가격(원)')\n",
    "        plt.title('기름값 분포')\n",
    "        plt.grid(False)\n",
    "        plt.legend()\n",
    "            \n",
    "    def show_plot(self):\n",
    "        return plt.show()"
   ]
  },
  {
   "cell_type": "code",
   "execution_count": 64,
   "metadata": {},
   "outputs": [],
   "source": [
    "oil = Oil()\n",
    "oil.set_standard('기간')\n",
    "oil.draw_plot()"
   ]
  },
  {
   "cell_type": "code",
   "execution_count": 51,
   "metadata": {},
   "outputs": [],
   "source": [
    "plt.show()"
   ]
  },
  {
   "cell_type": "code",
   "execution_count": 166,
   "metadata": {},
   "outputs": [
    {
     "data": {
      "text/plain": [
       "array(['강원 강릉시', '강원 고성군', '강원 동해시', '강원 삼척시', '강원 속초시', '강원 양구군',\n",
       "       '강원 양양군', '강원 영월군', '강원 원주시', '강원 인제군', '강원 정선군', '강원 철원군',\n",
       "       '강원 춘천시', '강원 태백시', '강원 평창군', '강원 홍천군', '강원 화천군', '강원 횡성군',\n",
       "       '경기 가평군', '경기 고양시', '경기 과천시', '경기 광명시', '경기 광주시', '경기 구리시',\n",
       "       '경기 군포시', '경기 김포시', '경기 남양주시', '경기 동두천시', '경기 부천시', '경기 성남시',\n",
       "       '경기 수원시', '경기 시흥시', '경기 안산시', '경기 안성시', '경기 안양시', '경기 양주시',\n",
       "       '경기 양평군', '경기 여주시', '경기 연천군', '경기 오산시', '경기 용인시', '경기 의왕시',\n",
       "       '경기 의정부시', '경기 이천시', '경기 파주시', '경기 평택시', '경기 포천시', '경기 하남시',\n",
       "       '경기 화성시', '경남 거제시', '경남 거창군', '경남 고성군', '경남 김해시', '경남 남해군',\n",
       "       '경남 밀양시', '경남 사천시', '경남 산청군', '경남 양산시', '경남 의령군', '경남 진주시',\n",
       "       '경남 창녕군', '경남 창원시', '경남 통영시', '경남 하동군', '경남 함안군', '경남 함양군',\n",
       "       '경남 합천군', '경북 경산시', '경북 경주시', '경북 고령군', '경북 구미시', '경북 군위군',\n",
       "       '경북 김천시', '경북 문경시', '경북 봉화군', '경북 상주시', '경북 성주군', '경북 안동시',\n",
       "       '경북 영덕군', '경북 영양군', '경북 영주시', '경북 영천시', '경북 예천군', '경북 울릉군',\n",
       "       '경북 울진군', '경북 의성군', '경북 청도군', '경북 청송군', '경북 칠곡군', '경북 포항시',\n",
       "       '광주 광산구', '광주 남구', '광주 동구', '광주 북구', '광주 서구', '대구 남구', '대구 달서구',\n",
       "       '대구 달성군', '대구 동구', '대구 북구', '대구 서구', '대구 수성구', '대구 중구', '대전 대덕구',\n",
       "       '대전 동구', '대전 서구', '대전 유성구', '대전 중구', '부산 강서구', '부산 금정구', '부산 기장군',\n",
       "       '부산 남구', '부산 동구', '부산 동래구', '부산 부산진구', '부산 북구', '부산 사상구', '부산 사하구',\n",
       "       '부산 서구', '부산 수영구', '부산 연제구', '부산 영도구', '부산 중구', '부산 해운대구',\n",
       "       '서울 강남구', '서울 강동구', '서울 강북구', '서울 강서구', '서울 관악구', '서울 광진구',\n",
       "       '서울 구로구', '서울 금천구', '서울 노원구', '서울 도봉구', '서울 동대문구', '서울 동작구',\n",
       "       '서울 마포구', '서울 서대문구', '서울 서초구', '서울 성동구', '서울 성북구', '서울 송파구',\n",
       "       '서울 양천구', '서울 영등포구', '서울 용산구', '서울 은평구', '서울 종로구', '서울 중구',\n",
       "       '서울 중랑구', '세종시', '울산 남구', '울산 동구', '울산 북구', '울산 울주군', '울산 중구',\n",
       "       '인천 강화군', '인천 계양구', '인천 남동구', '인천 동구', '인천 미추홀구', '인천 부평구',\n",
       "       '인천 서구', '인천 연수구', '인천 옹진군', '인천 중구', '전남 강진군', '전남 고흥군', '전남 곡성군',\n",
       "       '전남 광양시', '전남 구례군', '전남 나주시', '전남 담양군', '전남 목포시', '전남 무안군',\n",
       "       '전남 보성군', '전남 순천시', '전남 신안군', '전남 여수시', '전남 영광군', '전남 영암군',\n",
       "       '전남 완도군', '전남 장성군', '전남 장흥군', '전남 진도군', '전남 함평군', '전남 해남군',\n",
       "       '전남 화순군', '전북 고창군', '전북 군산시', '전북 김제시', '전북 남원시', '전북 무주군',\n",
       "       '전북 부안군', '전북 순창군', '전북 완주군', '전북 익산시', '전북 임실군', '전북 장수군',\n",
       "       '전북 전주시', '전북 정읍시', '전북 진안군', '제주 서귀포시', '제주 제주시', '충남 계룡시',\n",
       "       '충남 공주시', '충남 금산군', '충남 논산시', '충남 당진시', '충남 보령시', '충남 부여군',\n",
       "       '충남 서산시', '충남 서천군', '충남 아산시', '충남 예산군', '충남 천안시', '충남 청양군',\n",
       "       '충남 태안군', '충남 홍성군', '충북 괴산군', '충북 단양군', '충북 보은군', '충북 영동군',\n",
       "       '충북 옥천군', '충북 음성군', '충북 제천시', '충북 증평군', '충북 진천군', '충북 청주시',\n",
       "       '충북 충주시'], dtype=object)"
      ]
     },
     "execution_count": 166,
     "metadata": {},
     "output_type": "execute_result"
    }
   ],
   "source": [
    "data['지역'].unique()"
   ]
  }
 ],
 "metadata": {
  "kernelspec": {
   "display_name": "Python 3",
   "language": "python",
   "name": "python3"
  },
  "language_info": {
   "codemirror_mode": {
    "name": "ipython",
    "version": 3
   },
   "file_extension": ".py",
   "mimetype": "text/x-python",
   "name": "python",
   "nbconvert_exporter": "python",
   "pygments_lexer": "ipython3",
   "version": "3.7.9"
  }
 },
 "nbformat": 4,
 "nbformat_minor": 2
}

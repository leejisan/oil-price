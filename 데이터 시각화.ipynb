{
 "cells": [
  {
   "cell_type": "code",
   "execution_count": 66,
   "metadata": {},
   "outputs": [],
   "source": [
    "import pandas as pd\n",
    "import matplotlib.pyplot as plt\n",
    "import matplotlib as mpl\n",
    "import numpy as np\n",
    "import seaborn as sns\n",
    "import matplotlib.colors as mcolors\n",
    "from sklearn.cluster import KMeans\n",
    "from scipy.spatial.distance import cdist"
   ]
  },
  {
   "cell_type": "code",
   "execution_count": 115,
   "metadata": {},
   "outputs": [],
   "source": [
    "class Oil:\n",
    "    def __init__(self):\n",
    "        self.data = self.temp_data = pd.read_csv('refined_data/data.csv', encoding='ansi')\n",
    "        self.standard = ''\n",
    "        self.do = ''\n",
    "        self.sigungu = ''\n",
    "        sns.set(font='Gulim', font_scale=1)\n",
    "        plt.rcParams['figure.figsize'] = [16, 10]\n",
    "        \n",
    "    def set_columns(self,arr):\n",
    "        self.temp_data = self.data[arr]\n",
    "        \n",
    "    def get_columns(self):\n",
    "        return list(self.temp_data.columns)\n",
    "        \n",
    "    def set_standard(self,string):\n",
    "        self.standard = string\n",
    "        \n",
    "    def get_standard(self):\n",
    "        return self.standard     \n",
    "    \n",
    "    def set_do(self,string):\n",
    "        self.do = string\n",
    "        \n",
    "    def get_do(self,string):\n",
    "        return self.do\n",
    "        \n",
    "    def set_sigungu(self,string):\n",
    "        self.sigungu = string\n",
    "        \n",
    "    def get_sigungu(self,string):\n",
    "        return self.sigungu\n",
    "    \n",
    "    def cluster(self):\n",
    "        kmeans = KMeans(n_clusters=3).fit(self.data[['경유','휘발유']].values)\n",
    "        self.temp_data['클러스터'] = kmeans.labels_\n",
    "        \n",
    "    def elbow(self):\n",
    "        X = self.temp_data[['경유','휘발유']].values\n",
    "        sse = []\n",
    "        for i in range(1,11):\n",
    "            km = KMeans(n_clusters=i,algorithm='auto', random_state=42)\n",
    "            km.fit(X)\n",
    "            sse.append(km.inertia_)\n",
    "        plt.plot(range(1,11), sse, marker='o')\n",
    "        plt.xlabel('K')\n",
    "        plt.ylabel('SSE')\n",
    "        plt.show()\n",
    "\n",
    "    def draw_plot(self):\n",
    "        data = self.data[['기간','휘발유','경유','클러스터']]\n",
    "        loc_array = list(data.groupby([self.standard]).groups.keys())[0:10]\n",
    "        for i in loc_array:\n",
    "            X = data.loc[data.groupby([self.standard]).groups[i]]\n",
    "            X.reset_index(drop=True,inplace=True)\n",
    "            for cluster in range(0,3):\n",
    "                X = X[X['클러스터'] == cluster]\n",
    "                X.reset_index(drop=True,inplace=True)\n",
    "                plt.scatter(X[:]['경유'].astype(str),X[:]['휘발유'].astype(str),label=cluster, s=10)\n",
    "                plt.xlabel('경유 가격(원)')\n",
    "                plt.ylabel('휘발유 가격(원)')\n",
    "                plt.title('하루간의 경유가격 분포')\n",
    "                plt.grid(False)\n",
    "\n",
    "    def show_plot(self):\n",
    "        return plt.show()"
   ]
  },
  {
   "cell_type": "code",
   "execution_count": null,
   "metadata": {},
   "outputs": [],
   "source": [
    "oil = Oil()\n",
    "oil.set_standard('기간')\n",
    "oil.cluster()\n",
    "oil.draw_plot()"
   ]
  }
 ],
 "metadata": {
  "kernelspec": {
   "display_name": "Python 3",
   "language": "python",
   "name": "python3"
  },
  "language_info": {
   "codemirror_mode": {
    "name": "ipython",
    "version": 3
   },
   "file_extension": ".py",
   "mimetype": "text/x-python",
   "name": "python",
   "nbconvert_exporter": "python",
   "pygments_lexer": "ipython3",
   "version": "3.7.9"
  }
 },
 "nbformat": 4,
 "nbformat_minor": 2
}
